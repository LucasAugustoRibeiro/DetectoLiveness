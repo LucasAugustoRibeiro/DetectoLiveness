{
  "cells": [
    {
      "cell_type": "markdown",
      "metadata": {
        "id": "view-in-github",
        "colab_type": "text"
      },
      "source": [
        "<a href=\"https://colab.research.google.com/github/LucasAugustoRibeiro/DetectoLiveness/blob/main/deteccao_liveness_notebook.ipynb\" target=\"_parent\"><img src=\"https://colab.research.google.com/assets/colab-badge.svg\" alt=\"Open In Colab\"/></a>"
      ]
    },
    {
      "cell_type": "markdown",
      "metadata": {
        "id": "W01X3ohbqRWR"
      },
      "source": [
        "# MBA FIAP Inteligência Artificial & Machine Learning\n",
        "\n",
        "## Visão Computacional: Análise de Imagens Médicas\n",
        "\n",
        "> Atenção: este notebook foi desenhado para funcionar no **Google Collab**.\n",
        "\n",
        "\n",
        "## 1. Introdução\n",
        "\n",
        "Uma determinada fintech focada em consumidores finais pessoa física constataou um grande número de fraudes em transações bancárias.\n",
        "\n",
        "O setor de fraudes apontou que existem clientes que se queixaram de não contratar serviços específicos, como o crédito pessoal, e após isso transferir para outras contas desconhecidas.\n",
        "\n",
        "Após análises pelas equipes de segurança, os protocolos de utilização da senha foram realizados em conformidade, ou seja, cada cliente autenticou com sua própria senha de maneira regular.\n",
        "\n",
        "Em função disso, o banco precisa arcar com reembolsos e medidas de contenção para evitar processos judiciais, pois os clientes alegam terem sido invadidos por hackers ou algo parecido.\n",
        "\n",
        "Uma das formas de solucionar ou minimizar este problema é com a utilização de outras formas de autenticação, sobretudo em operações críticas, como a obtenção de crédito pessoal.\n",
        "\n",
        "Desta forma podemos implementar uma verificação de identidade com prova de vida (liveness), que utilize uma verificação e identificação facial.\n",
        "\n",
        "Caso o cliente não seja autenticado, ele será atendido por uma esteira dedicada e as evidências da não identificação serão encaminhadas para a área de IA para validação dos parâmetros e limiares para aperfeiçoamento do modelo.\n",
        "\n",
        "Será necessário construir:\n",
        "\n",
        "* Detector de faces\n",
        "* Identificação de faces (podendo ser um comparador entre um rosto de documento e outra da prova de vida)\n",
        "* Detecção de vivacidade (liveness) para evitar que um fraudador utilize uma foto estática.\n",
        "\n",
        "\n",
        ">Formas alternativas de prover a identificação e prova de vivacidade, além destas que foram solicitadas poderão ser submetidas.\n",
        "\n",
        "\n",
        "<p align=\"center\">\n",
        "    <img src=\"imagens/liveness.jpg\">\n",
        "</p>\n",
        "\n",
        "Imagem retirada do [Grunge](https://www.grunge.com/192826/company-testing-robocop-facial-recognition-software-with-us-police/).\n",
        "\n",
        "## 2. Instruções\n",
        "\n",
        "Este projeto final tem como objetivo explorar os conhecimentos adquiridos nas aulas práticas.\n",
        "\n",
        "Iremos constuir uma forma de validar se uma determinada imagem foi ou não adulterada e se trata de uma produção fraudade.\n",
        "\n",
        "Existem diversas formas de validar a vivacidade, e neste sentido conto com a criatividade de vocês dado que já dominam encontrar uma face numa imagem, aplicar marcos faciais e até mesmo construir uma rede neural convulacional.\n",
        "\n",
        "A abordagem mais simples é pela construção de uma rede neural com imagens de fotos de rostos de outras fotos e fotos de rostos sem modificações. Tal classificador deverá classificar se dada imagem possui vivacidade ou não com uma pontuação de probabilidade.\n",
        "\n",
        "Referências que abordam o tema para servir de inspiração:\n",
        "\n",
        "1. [PyImageSearch](https://pyimagesearch.com/2019/03/11/liveness-detection-with-opencv/), Liveness detection with OpenCV;\n",
        "2. [Kickertech](https://kickertech.com/face-liveness-detection-via-opencv-and-tensorflow/), Liveness detection via OpenCV and Tensorflow.\n",
        "3. [Towards Data Science](https://towardsdatascience.com/real-time-face-liveness-detection-with-python-keras-and-opencv-c35dc70dafd3?gi=24f8e1b740f9), Real-time face liveness detection with Python, Keras and OpenCV.\n",
        "\n",
        "Este projeto poderá ser feita por grupos de até 4 pessoas.\n",
        "Caso este projeto seja substitutivo, deverá ser realizado por apenas uma pessoa.\n",
        "\n",
        "| Nome dos Integrantes     | RM            | Turma |\n",
        "| :----------------------- | :------------- | :-----: |\n",
        "| Lucas Augusto Ribeiro            | RM 343289      | 22IA |\n"
      ]
    },
    {
      "cell_type": "markdown",
      "metadata": {
        "id": "8Iao4yGwqRWT"
      },
      "source": [
        "## 3. Abordagem e organização da solução do problema (2 pontos)\n",
        "\n",
        "Como o grupo pretende deteccar a prova de vivacidade de uma determinada imagem? Quais os passos e os building blocks deste processo?"
      ]
    },
    {
      "cell_type": "markdown",
      "metadata": {
        "id": "2wEZIczjqRWT"
      },
      "source": [
        "**Resposta**:\n",
        "\n",
        "Primeiramente, antecedendo a etapa de treinamento do modelo de liveness, iremos capturar os imagens em duas situações:\n",
        "\n",
        "Imagens de uma pessoa real simulando um usuario;\n",
        "\n",
        "Imagens de fotos exibida através de uma tela de celular.\n",
        "\n",
        "Posteriormente, utilizaremos o método \"haarcascate\", para detecção das faces;\n",
        "\n",
        "Por fim, será a etapa de treinamento utilizando redes neurais com classificação binária para distinguir as imagens reais das falsas."
      ]
    },
    {
      "cell_type": "markdown",
      "metadata": {
        "id": "_ohR9Lm7qRWT"
      },
      "source": [
        "## 4 Desenvolvimento da solução (5,5 pontos)\n",
        "\n",
        "Detalhe o passo-a-passo do algoritmo de deteção de vivacidade.\n",
        "Se optar pela construção e treinamento de um modelo de redes neurais convulucionais, apresente a arquitetura, prepare os dados de treinamento, realize o treinamento."
      ]
    },
    {
      "cell_type": "markdown",
      "metadata": {
        "id": "PiroMUHcqRWT"
      },
      "source": [
        "### 4.1 Organização de dados para treinamento de modelo de liveness (2 pontos)"
      ]
    },
    {
      "cell_type": "code",
      "source": [
        "import cv2\n",
        "import os\n",
        "\n",
        "# Load the pre-trained Haarcascades face detection classifier\n",
        "face_cascade = cv2.CascadeClassifier(cv2.data.haarcascades + 'haarcascade_frontalface_default.xml')\n",
        "\n",
        "def detect_faces(img):\n",
        "    # Convert the image to grayscale\n",
        "    gray = cv2.cvtColor(img, cv2.COLOR_BGR2GRAY)\n",
        "\n",
        "    # Detect faces in the image\n",
        "    faces = face_cascade.detectMultiScale(gray, scaleFactor=1.3, minNeighbors=5)\n",
        "\n",
        "    return faces\n",
        "\n",
        "def crop_and_save_faces(img, faces,contador , output_folder='output_faces'):\n",
        "    # Create the output folder if it doesn't exist\n",
        "    os.makedirs(output_folder, exist_ok=True)\n",
        "    for i, (x, y, w, h) in enumerate(faces):\n",
        "        # Crop the face from the image\n",
        "        face_crop = img[y:y+h, x:x+w]\n",
        "\n",
        "        # Save the cropped face to the output folder\n",
        "        output_path = os.path.join(output_folder, f'face_{contador}.jpg')\n",
        "        cv2.imwrite(output_path, face_crop)\n",
        "\n",
        "def process_folder(input_folder, output_folder='output_faces'):\n",
        "    # Create the output folder if it doesn't exist\n",
        "    os.makedirs(output_folder, exist_ok=True)\n",
        "    contador = 0\n",
        "    # Loop through all image files in the input folder\n",
        "    for filename in os.listdir(input_folder):\n",
        "      if filename.endswith(('.jpg', '.jpeg', '.png', '.bmp')):\n",
        "        image_path = os.path.join(input_folder, filename)\n",
        "        img = cv2.imread(image_path)\n",
        "\n",
        "        # Detect faces in the current image\n",
        "        faces = detect_faces(img)\n",
        "        contador = contador+1\n",
        "        # Crop and save the faces\n",
        "        crop_and_save_faces(img, faces,contador, output_folder)\n",
        "\n",
        "# Example usage\n",
        "input_folder = 'real_photos'\n",
        "process_folder(input_folder, output_folder='training_dataset/real_faces')\n",
        "\n",
        "input_folder = 'fake_photos'\n",
        "process_folder(input_folder, output_folder='training_dataset/fake_faces')"
      ],
      "metadata": {
        "id": "Vd01sbJ0vt3y"
      },
      "execution_count": 1,
      "outputs": []
    },
    {
      "cell_type": "markdown",
      "metadata": {
        "id": "94dxrvomqRWU"
      },
      "source": [
        "### 4.2 Treinamento de modelo de liveness (1,5 pontos)"
      ]
    },
    {
      "cell_type": "code",
      "execution_count": 2,
      "metadata": {
        "id": "HwWeW6iSqRWU"
      },
      "outputs": [],
      "source": [
        "# import the necessary packages\n",
        "import matplotlib.pyplot as plt\n",
        "import numpy as np\n",
        "import argparse\n",
        "import pickle\n",
        "import cv2\n",
        "import os\n",
        "#matplotlib.use(\"Agg\")\n",
        "from sklearn.preprocessing import LabelEncoder\n",
        "from sklearn.model_selection import train_test_split\n",
        "from sklearn.metrics import classification_report\n",
        "from tensorflow.keras.preprocessing.image import ImageDataGenerator\n",
        "from tensorflow.keras.optimizers import Adam\n",
        "from tensorflow.keras.utils import to_categorical\n",
        "from imutils import paths\n",
        "from tensorflow.keras.models import Sequential\n",
        "from tensorflow.keras.layers import BatchNormalization\n",
        "from tensorflow.keras.layers import Conv2D\n",
        "from tensorflow.keras.layers import MaxPooling2D\n",
        "from tensorflow.keras.layers import Activation\n",
        "from tensorflow.keras.layers import Flatten\n",
        "from tensorflow.keras.layers import Dropout\n",
        "from tensorflow.keras.layers import Dense\n",
        "from tensorflow.keras import backend as K\n",
        "\n",
        "%matplotlib inline\n",
        "\n",
        "class LivenessNet:\n",
        "\t@staticmethod\n",
        "\tdef build(width, height, depth, classes):\n",
        "\t\t# initialize the model along with the input shape to be\n",
        "\t\t# \"channels last\" and the channels dimension itself\n",
        "\t\tmodel = Sequential()\n",
        "\t\tinputShape = (height, width, depth)\n",
        "\t\tchanDim = -1\n",
        "\t\t# if we are using \"channels first\", update the input shape\n",
        "\t\t# and channels dimension\n",
        "\t\tif K.image_data_format() == \"channels_first\":\n",
        "\t\t\tinputShape = (depth, height, width)\n",
        "\t\t\tchanDim = 1\n",
        "\n",
        "    # first CONV => RELU => CONV => RELU => POOL layer set\n",
        "\t\tmodel.add(Conv2D(16, (3, 3), padding=\"same\",\n",
        "\t\t\tinput_shape=inputShape))\n",
        "\t\tmodel.add(Activation(\"relu\"))\n",
        "\t\tmodel.add(BatchNormalization(axis=chanDim))\n",
        "\t\tmodel.add(Conv2D(16, (3, 3), padding=\"same\"))\n",
        "\t\tmodel.add(Activation(\"relu\"))\n",
        "\t\tmodel.add(BatchNormalization(axis=chanDim))\n",
        "\t\tmodel.add(MaxPooling2D(pool_size=(2, 2)))\n",
        "\t\tmodel.add(Dropout(0.25))\n",
        "\t\t# second CONV => RELU => CONV => RELU => POOL layer set\n",
        "\t\tmodel.add(Conv2D(32, (3, 3), padding=\"same\"))\n",
        "\t\tmodel.add(Activation(\"relu\"))\n",
        "\t\tmodel.add(BatchNormalization(axis=chanDim))\n",
        "\t\tmodel.add(Conv2D(32, (3, 3), padding=\"same\"))\n",
        "\t\tmodel.add(Activation(\"relu\"))\n",
        "\t\tmodel.add(BatchNormalization(axis=chanDim))\n",
        "\t\tmodel.add(MaxPooling2D(pool_size=(2, 2)))\n",
        "\t\tmodel.add(Dropout(0.25))\n",
        "\n",
        "  \t# first (and only) set of FC => RELU layers\n",
        "\t\tmodel.add(Flatten())\n",
        "\t\tmodel.add(Dense(64))\n",
        "\t\tmodel.add(Activation(\"relu\"))\n",
        "\t\tmodel.add(BatchNormalization())\n",
        "\t\tmodel.add(Dropout(0.5))\n",
        "\t\t# softmax classifier\n",
        "\t\tmodel.add(Dense(classes))\n",
        "\t\tmodel.add(Activation(\"softmax\"))\n",
        "\t\t# return the constructed network architecture\n",
        "\t\treturn model"
      ]
    },
    {
      "cell_type": "code",
      "source": [
        "# Incializando o modelo\n",
        "# epochs to train for\n",
        "INIT_LR = 1e-4\n",
        "BS = 8\n",
        "EPOCHS = 50\n",
        "# grab the list of images in our dataset directory, then initialize\n",
        "# the list of data (i.e., images) and class images\n",
        "print(\"[INFO] loading images...\")\n",
        "imagePaths = list(paths.list_images('training_dataset'))\n",
        "data = []\n",
        "labels = []\n",
        "\n",
        "# loop over all image paths\n",
        "for imagePath in imagePaths:\n",
        "  # extract the class label from the filename, load the image and\n",
        "  # resize it to be a fixed 32x32 pixels, ignoring aspect ratio\n",
        "  label = imagePath.split(os.path.sep)[-2]\n",
        "  image = cv2.imread(imagePath)\n",
        "  image = cv2.resize(image, (32, 32))\n",
        "  image = cv2.cvtColor(image, cv2.COLOR_BGR2RGB)\n",
        "\n",
        "\t# update the data and labels lists, respectively\n",
        "  data.append(image)\n",
        "  labels.append(label)\n",
        "\n",
        "# convert the data into a NumPy array, then preprocess it by scaling\n",
        "# all pixel intensities to the range [0, 1]\n",
        "data = np.array(data, dtype=\"float\") / 255.0\n",
        "\n"
      ],
      "metadata": {
        "colab": {
          "base_uri": "https://localhost:8080/"
        },
        "id": "cJpwGtOP_ffz",
        "outputId": "d7fec7c6-71e8-45d8-9267-c2fb74890084"
      },
      "execution_count": 3,
      "outputs": [
        {
          "output_type": "stream",
          "name": "stdout",
          "text": [
            "[INFO] loading images...\n"
          ]
        }
      ]
    },
    {
      "cell_type": "code",
      "source": [
        "# encode the labels (which are currently strings) as integers and then\n",
        "# one-hot encode them\n",
        "le = LabelEncoder()\n",
        "labels = le.fit_transform(labels)\n",
        "labels = to_categorical(labels, 2)\n",
        "# partition the data into training and testing splits using 75% of\n",
        "# the data for training and the remaining 25% for testing\n",
        "(trainX, testX, trainY, testY) = train_test_split(data, labels,\n",
        "\ttest_size=0.2, random_state=42)"
      ],
      "metadata": {
        "id": "txPIaIEo_qdc"
      },
      "execution_count": 4,
      "outputs": []
    },
    {
      "cell_type": "code",
      "source": [
        "# construct the training image generator for data augmentation\n",
        "aug = ImageDataGenerator(rotation_range=20, zoom_range=0.15,\n",
        "\twidth_shift_range=0.2, height_shift_range=0.2, shear_range=0.15,\n",
        "\thorizontal_flip=True, fill_mode=\"nearest\")\n",
        "\n",
        "# initialize the optimizer and model\n",
        "print(\"[INFO] compiling model...\")\n",
        "\n",
        "opt = Adam(lr=INIT_LR)\n",
        "\n",
        "model = LivenessNet.build(width=32, height=32, depth=3, classes=len(le.classes_))\n",
        "\n",
        "model.compile(loss=\"binary_crossentropy\", optimizer=opt,metrics=[\"accuracy\"])\n",
        "\n",
        "# train the network\n",
        "print(\"[INFO] training network for {} epochs...\".format(EPOCHS))\n",
        "\n",
        "H = model.fit(x=aug.flow(trainX, trainY, batch_size=BS),\n",
        "              validation_data=(testX, testY),\n",
        "              steps_per_epoch=len(trainX) // BS, epochs=EPOCHS)"
      ],
      "metadata": {
        "colab": {
          "base_uri": "https://localhost:8080/"
        },
        "id": "pouyvyLg_s5N",
        "outputId": "185a3986-fb19-4ec9-b044-6fb68f72dfd9"
      },
      "execution_count": 5,
      "outputs": [
        {
          "output_type": "stream",
          "name": "stderr",
          "text": [
            "WARNING:absl:`lr` is deprecated in Keras optimizer, please use `learning_rate` or use the legacy optimizer, e.g.,tf.keras.optimizers.legacy.Adam.\n"
          ]
        },
        {
          "output_type": "stream",
          "name": "stdout",
          "text": [
            "[INFO] compiling model...\n",
            "[INFO] training network for 50 epochs...\n",
            "Epoch 1/50\n",
            "1/1 [==============================] - 3s 3s/step - loss: 0.8523 - accuracy: 0.6250 - val_loss: 0.6898 - val_accuracy: 0.5000\n",
            "Epoch 2/50\n",
            "1/1 [==============================] - 0s 80ms/step - loss: 0.6896 - accuracy: 0.7500 - val_loss: 0.6878 - val_accuracy: 0.5000\n",
            "Epoch 3/50\n",
            "1/1 [==============================] - 0s 80ms/step - loss: 0.5266 - accuracy: 0.7500 - val_loss: 0.6873 - val_accuracy: 0.5000\n",
            "Epoch 4/50\n",
            "1/1 [==============================] - 0s 95ms/step - loss: 0.5127 - accuracy: 0.6250 - val_loss: 0.6869 - val_accuracy: 0.5000\n",
            "Epoch 5/50\n",
            "1/1 [==============================] - 0s 100ms/step - loss: 0.5776 - accuracy: 0.8750 - val_loss: 0.6881 - val_accuracy: 0.5000\n",
            "Epoch 6/50\n",
            "1/1 [==============================] - 0s 96ms/step - loss: 0.2209 - accuracy: 1.0000 - val_loss: 0.6900 - val_accuracy: 0.5000\n",
            "Epoch 7/50\n",
            "1/1 [==============================] - 0s 80ms/step - loss: 0.3809 - accuracy: 0.8750 - val_loss: 0.6901 - val_accuracy: 0.5000\n",
            "Epoch 8/50\n",
            "1/1 [==============================] - 0s 97ms/step - loss: 0.2357 - accuracy: 1.0000 - val_loss: 0.6915 - val_accuracy: 0.5000\n",
            "Epoch 9/50\n",
            "1/1 [==============================] - 0s 103ms/step - loss: 0.2218 - accuracy: 1.0000 - val_loss: 0.6932 - val_accuracy: 0.5000\n",
            "Epoch 10/50\n",
            "1/1 [==============================] - 0s 83ms/step - loss: 0.0790 - accuracy: 1.0000 - val_loss: 0.6939 - val_accuracy: 0.5000\n",
            "Epoch 11/50\n",
            "1/1 [==============================] - 0s 77ms/step - loss: 0.0993 - accuracy: 1.0000 - val_loss: 0.6940 - val_accuracy: 0.5000\n",
            "Epoch 12/50\n",
            "1/1 [==============================] - 0s 103ms/step - loss: 0.1692 - accuracy: 1.0000 - val_loss: 0.6945 - val_accuracy: 0.5000\n",
            "Epoch 13/50\n",
            "1/1 [==============================] - 0s 80ms/step - loss: 0.1187 - accuracy: 1.0000 - val_loss: 0.6951 - val_accuracy: 0.5000\n",
            "Epoch 14/50\n",
            "1/1 [==============================] - 0s 85ms/step - loss: 0.0898 - accuracy: 1.0000 - val_loss: 0.6962 - val_accuracy: 0.5000\n",
            "Epoch 15/50\n",
            "1/1 [==============================] - 0s 83ms/step - loss: 0.1226 - accuracy: 1.0000 - val_loss: 0.6971 - val_accuracy: 0.5000\n",
            "Epoch 16/50\n",
            "1/1 [==============================] - 0s 83ms/step - loss: 0.0612 - accuracy: 1.0000 - val_loss: 0.6983 - val_accuracy: 0.5000\n",
            "Epoch 17/50\n",
            "1/1 [==============================] - 0s 80ms/step - loss: 0.0503 - accuracy: 1.0000 - val_loss: 0.6997 - val_accuracy: 0.5000\n",
            "Epoch 18/50\n",
            "1/1 [==============================] - 0s 78ms/step - loss: 0.1344 - accuracy: 1.0000 - val_loss: 0.7012 - val_accuracy: 0.5000\n",
            "Epoch 19/50\n",
            "1/1 [==============================] - 0s 80ms/step - loss: 0.0418 - accuracy: 1.0000 - val_loss: 0.7032 - val_accuracy: 0.5000\n",
            "Epoch 20/50\n",
            "1/1 [==============================] - 0s 120ms/step - loss: 0.0642 - accuracy: 1.0000 - val_loss: 0.7047 - val_accuracy: 0.5000\n",
            "Epoch 21/50\n",
            "1/1 [==============================] - 0s 132ms/step - loss: 0.1206 - accuracy: 1.0000 - val_loss: 0.7034 - val_accuracy: 0.5000\n",
            "Epoch 22/50\n",
            "1/1 [==============================] - 0s 140ms/step - loss: 0.0529 - accuracy: 1.0000 - val_loss: 0.7013 - val_accuracy: 0.0000e+00\n",
            "Epoch 23/50\n",
            "1/1 [==============================] - 0s 146ms/step - loss: 0.0499 - accuracy: 1.0000 - val_loss: 0.7011 - val_accuracy: 0.0000e+00\n",
            "Epoch 24/50\n",
            "1/1 [==============================] - 0s 140ms/step - loss: 0.0329 - accuracy: 1.0000 - val_loss: 0.7000 - val_accuracy: 0.5000\n",
            "Epoch 25/50\n",
            "1/1 [==============================] - 0s 137ms/step - loss: 0.0924 - accuracy: 1.0000 - val_loss: 0.6993 - val_accuracy: 0.5000\n",
            "Epoch 26/50\n",
            "1/1 [==============================] - 0s 130ms/step - loss: 0.0300 - accuracy: 1.0000 - val_loss: 0.6990 - val_accuracy: 0.5000\n",
            "Epoch 27/50\n",
            "1/1 [==============================] - 0s 129ms/step - loss: 0.0248 - accuracy: 1.0000 - val_loss: 0.6978 - val_accuracy: 0.5000\n",
            "Epoch 28/50\n",
            "1/1 [==============================] - 0s 148ms/step - loss: 0.0220 - accuracy: 1.0000 - val_loss: 0.6972 - val_accuracy: 0.5000\n",
            "Epoch 29/50\n",
            "1/1 [==============================] - 0s 139ms/step - loss: 0.0301 - accuracy: 1.0000 - val_loss: 0.6984 - val_accuracy: 0.5000\n",
            "Epoch 30/50\n",
            "1/1 [==============================] - 0s 131ms/step - loss: 0.0245 - accuracy: 1.0000 - val_loss: 0.7003 - val_accuracy: 0.5000\n",
            "Epoch 31/50\n",
            "1/1 [==============================] - 0s 122ms/step - loss: 0.0192 - accuracy: 1.0000 - val_loss: 0.7020 - val_accuracy: 0.5000\n",
            "Epoch 32/50\n",
            "1/1 [==============================] - 0s 143ms/step - loss: 0.0436 - accuracy: 1.0000 - val_loss: 0.7042 - val_accuracy: 0.5000\n",
            "Epoch 33/50\n",
            "1/1 [==============================] - 0s 81ms/step - loss: 0.0169 - accuracy: 1.0000 - val_loss: 0.7061 - val_accuracy: 0.5000\n",
            "Epoch 34/50\n",
            "1/1 [==============================] - 0s 126ms/step - loss: 0.0421 - accuracy: 1.0000 - val_loss: 0.7085 - val_accuracy: 0.5000\n",
            "Epoch 35/50\n",
            "1/1 [==============================] - 0s 123ms/step - loss: 0.0257 - accuracy: 1.0000 - val_loss: 0.7102 - val_accuracy: 0.5000\n",
            "Epoch 36/50\n",
            "1/1 [==============================] - 0s 102ms/step - loss: 0.0250 - accuracy: 1.0000 - val_loss: 0.7119 - val_accuracy: 0.5000\n",
            "Epoch 37/50\n",
            "1/1 [==============================] - 0s 92ms/step - loss: 0.0240 - accuracy: 1.0000 - val_loss: 0.7146 - val_accuracy: 0.5000\n",
            "Epoch 38/50\n",
            "1/1 [==============================] - 0s 96ms/step - loss: 0.0171 - accuracy: 1.0000 - val_loss: 0.7165 - val_accuracy: 0.5000\n",
            "Epoch 39/50\n",
            "1/1 [==============================] - 0s 105ms/step - loss: 0.0321 - accuracy: 1.0000 - val_loss: 0.7188 - val_accuracy: 0.5000\n",
            "Epoch 40/50\n",
            "1/1 [==============================] - 0s 99ms/step - loss: 0.0133 - accuracy: 1.0000 - val_loss: 0.7200 - val_accuracy: 0.5000\n",
            "Epoch 41/50\n",
            "1/1 [==============================] - 0s 102ms/step - loss: 0.0253 - accuracy: 1.0000 - val_loss: 0.7217 - val_accuracy: 0.5000\n",
            "Epoch 42/50\n",
            "1/1 [==============================] - 0s 78ms/step - loss: 0.0145 - accuracy: 1.0000 - val_loss: 0.7242 - val_accuracy: 0.5000\n",
            "Epoch 43/50\n",
            "1/1 [==============================] - 0s 95ms/step - loss: 0.0226 - accuracy: 1.0000 - val_loss: 0.7260 - val_accuracy: 0.5000\n",
            "Epoch 44/50\n",
            "1/1 [==============================] - 0s 80ms/step - loss: 0.0414 - accuracy: 1.0000 - val_loss: 0.7286 - val_accuracy: 0.5000\n",
            "Epoch 45/50\n",
            "1/1 [==============================] - 0s 100ms/step - loss: 0.0171 - accuracy: 1.0000 - val_loss: 0.7314 - val_accuracy: 0.5000\n",
            "Epoch 46/50\n",
            "1/1 [==============================] - 0s 83ms/step - loss: 0.0187 - accuracy: 1.0000 - val_loss: 0.7331 - val_accuracy: 0.5000\n",
            "Epoch 47/50\n",
            "1/1 [==============================] - 0s 84ms/step - loss: 0.0097 - accuracy: 1.0000 - val_loss: 0.7344 - val_accuracy: 0.5000\n",
            "Epoch 48/50\n",
            "1/1 [==============================] - 0s 87ms/step - loss: 0.0217 - accuracy: 1.0000 - val_loss: 0.7359 - val_accuracy: 0.5000\n",
            "Epoch 49/50\n",
            "1/1 [==============================] - 0s 105ms/step - loss: 0.0158 - accuracy: 1.0000 - val_loss: 0.7377 - val_accuracy: 0.5000\n",
            "Epoch 50/50\n",
            "1/1 [==============================] - 0s 93ms/step - loss: 0.0230 - accuracy: 1.0000 - val_loss: 0.7393 - val_accuracy: 0.5000\n"
          ]
        }
      ]
    },
    {
      "cell_type": "markdown",
      "metadata": {
        "id": "8IpBnlObqRWU"
      },
      "source": [
        "### 4.3 Métricas de desempenho do modelo (2 pontos)"
      ]
    },
    {
      "cell_type": "code",
      "execution_count": 6,
      "metadata": {
        "colab": {
          "base_uri": "https://localhost:8080/",
          "height": 822
        },
        "id": "Yx-kpuVDqRWU",
        "outputId": "0980ebf1-b887-4490-9498-55582aa4ea40"
      },
      "outputs": [
        {
          "output_type": "display_data",
          "data": {
            "text/plain": [
              "<Figure size 1200x1000 with 1 Axes>"
            ],
            "image/png": "[encoded data removed]"
          },
          "metadata": {}
        }
      ],
      "source": [
        "# evaluate the network\n",
        "# plot the training loss and accuracy\n",
        "plt.style.use(\"ggplot\")\n",
        "plt.figure(figsize=(12, 10))\n",
        "plt.plot(np.arange(0, EPOCHS), H.history[\"loss\"], label=\"train_loss\")\n",
        "plt.plot(np.arange(0, EPOCHS), H.history[\"val_loss\"], label=\"val_loss\")\n",
        "plt.plot(np.arange(0, EPOCHS), H.history[\"accuracy\"], label=\"train_acc\")\n",
        "plt.plot(np.arange(0, EPOCHS), H.history[\"val_accuracy\"], label=\"val_acc\")\n",
        "plt.title(\"Training Loss and Accuracy on Dataset\")\n",
        "plt.xlabel(\"Epoch #\")\n",
        "plt.ylabel(\"Loss/Accuracy\")\n",
        "plt.legend(loc=\"lower left\")\n",
        "plt.show()"
      ]
    },
    {
      "cell_type": "markdown",
      "metadata": {
        "id": "m3ptG1rbqRWV"
      },
      "source": [
        "## 5 Teste Fim-a-Fim\n",
        "\n",
        "Simule a operação fim-a-fim, com uma imagem de entrada forjada (foto de foto de um rosto) e outra com uma imagem de rosto, exibindo o resultado da classificação e a pontuação de cada classe."
      ]
    },
    {
      "cell_type": "code",
      "execution_count": 7,
      "metadata": {
        "colab": {
          "base_uri": "https://localhost:8080/",
          "height": 441
        },
        "id": "x0X1vnxUqRWV",
        "outputId": "9bf2b534-fa38-4d08-d227-4c537e2a5528"
      },
      "outputs": [
        {
          "output_type": "stream",
          "name": "stdout",
          "text": [
            "1/1 [==============================] - 0s 212ms/step\n"
          ]
        },
        {
          "output_type": "execute_result",
          "data": {
            "text/plain": [
              "array([[0.21768071, 0.7823193 ]], dtype=float32)"
            ]
          },
          "metadata": {},
          "execution_count": 7
        },
        {
          "output_type": "display_data",
          "data": {
            "text/plain": [
              "<Figure size 640x480 with 1 Axes>"
            ],
            "image/png": "[encoded data removed]"
          },
          "metadata": {}
        }
      ],
      "source": [
        "# Criando imagem fake\n",
        "fake = cv2.imread('5 Teste Fim-a-Fim/Teste fake.jpg')\n",
        "plt.axis(\"off\")\n",
        "fake_rgb = cv2.cvtColor(fake, cv2.COLOR_BGR2RGB)\n",
        "plt.imshow(fake_rgb)\n",
        "\n",
        "# Extraindo face\n",
        "face_cascade = cv2.CascadeClassifier(cv2.data.haarcascades + 'haarcascade_frontalface_default.xml')\n",
        "faces = face_cascade.detectMultiScale(fake_rgb, 1.3, 5)\n",
        "\n",
        "for (x,y,w,h) in faces:\n",
        "  fake_face = fake_rgb[y:y+h, x:x+w]\n",
        "\n",
        "# plotando\n",
        "plt.axis(\"off\")\n",
        "plt.imshow(fake_face)\n",
        "\n",
        "# Redimensionando os dados\n",
        "fake_face_redimensionado = cv2.resize(fake_face, (32, 32))\n",
        "\n",
        "# convertendo os dados\n",
        "image_np = np.array(fake_face_redimensionado, dtype=\"float\") / 255.0\n",
        "\n",
        "plt.imshow(image_np)\n",
        "plt.axis(\"off\")\n",
        "\n",
        "# Prevendo classe\n",
        "model.predict(image_np[None, ...])"
      ]
    },
    {
      "cell_type": "code",
      "source": [
        "# Criando imagem fake\n",
        "verdadeiro = cv2.imread('5 Teste Fim-a-Fim/Teste real.jpg')\n",
        "plt.axis(\"off\")\n",
        "verdadeiro_rgb = cv2.cvtColor(verdadeiro, cv2.COLOR_BGR2RGB)\n",
        "plt.imshow(verdadeiro_rgb)\n",
        "\n",
        "# Extraindo face\n",
        "face_cascade = cv2.CascadeClassifier(cv2.data.haarcascades + 'haarcascade_frontalface_default.xml')\n",
        "faces = face_cascade.detectMultiScale(verdadeiro_rgb, 1.3, 5)\n",
        "\n",
        "for (x,y,w,h) in faces:\n",
        "  roi_color = verdadeiro_rgb[y:y+h, x:x+w]\n",
        "\n",
        "# plotando\n",
        "plt.axis(\"off\")\n",
        "plt.imshow(roi_color)\n",
        "\n",
        "# Redimensionando os dados\n",
        "roi_color_redimensionado = cv2.resize(roi_color, (32, 32))\n",
        "\n",
        "# convertendo os dados\n",
        "image_np = np.array(roi_color_redimensionado, dtype=\"float\") / 255.0\n",
        "\n",
        "plt.imshow(image_np)\n",
        "plt.axis(\"off\")\n",
        "\n",
        "# Prevendo classe\n",
        "model.predict(image_np[None, ...])"
      ],
      "metadata": {
        "colab": {
          "base_uri": "https://localhost:8080/",
          "height": 441
        },
        "id": "U6baKYAuGAzD",
        "outputId": "f4af20ad-8939-449a-e027-6de3e241a20c"
      },
      "execution_count": 8,
      "outputs": [
        {
          "output_type": "stream",
          "name": "stdout",
          "text": [
            "1/1 [==============================] - 0s 23ms/step\n"
          ]
        },
        {
          "output_type": "execute_result",
          "data": {
            "text/plain": [
              "array([[0.12013761, 0.87986237]], dtype=float32)"
            ]
          },
          "metadata": {},
          "execution_count": 8
        },
        {
          "output_type": "display_data",
          "data": {
            "text/plain": [
              "<Figure size 640x480 with 1 Axes>"
            ],
            "image/png": "[encoded data removed]"
          },
          "metadata": {}
        }
      ]
    },
    {
      "cell_type": "markdown",
      "metadata": {
        "id": "x0A7vJ3IqRWV"
      },
      "source": [
        ">Com a implementação da solução na forma de uma aplicação do [Streamlit](https://www.streamlit.io/) (veja a pata streamlit-app e use o template) vale 1 ponto adicional."
      ]
    },
    {
      "cell_type": "markdown",
      "metadata": {
        "id": "veiOETliqRWV"
      },
      "source": [
        "**Pergunta**: Se utilizou o Streamlit, compartilhe a URL do aplicativo publicado:"
      ]
    },
    {
      "cell_type": "markdown",
      "metadata": {
        "id": "-s26D_YtqRWV"
      },
      "source": [
        "**Resposta**:"
      ]
    },
    {
      "cell_type": "markdown",
      "metadata": {
        "id": "9GmHiTjrqRWV"
      },
      "source": [
        "## 6 Conclusões (2,5 pontos)\n",
        "\n",
        "**Pergunta**: Dado todo o estudo e pesquisa, quais foram as conclusões sobre a solução, o que funcionou, o que não funcionou e quais os detalhes que observariam numa nova versão e melhorias do processo?"
      ]
    },
    {
      "cell_type": "markdown",
      "metadata": {
        "id": "sN7TIuPvqRWV"
      },
      "source": [
        "**Resposta**:\n",
        "Usar mais amostras, bem como diferentes pessoas poderia melhorar a qualidade do resultado"
      ]
    }
  ],
  "metadata": {
    "kernelspec": {
      "display_name": "Python 3.9.13 ('.venv': venv)",
      "language": "python",
      "name": "python3"
    },
    "language_info": {
      "codemirror_mode": {
        "name": "ipython",
        "version": 3
      },
      "file_extension": ".py",
      "mimetype": "text/x-python",
      "name": "python",
      "nbconvert_exporter": "python",
      "pygments_lexer": "ipython3",
      "version": "3.9.13"
    },
    "vscode": {
      "interpreter": {
        "hash": "733a071da2455ea0e8bdf5409a7097e630ac701195faf55c6e985d77ee3ec176"
      }
    },
    "colab": {
      "provenance": [],
      "include_colab_link": true
    }
  },
  "nbformat": 4,
  "nbformat_minor": 0
}